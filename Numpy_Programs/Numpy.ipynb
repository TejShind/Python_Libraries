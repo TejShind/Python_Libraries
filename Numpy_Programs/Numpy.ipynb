{
 "cells": [
  {
   "cell_type": "code",
   "execution_count": 122,
   "id": "ccdf2339",
   "metadata": {},
   "outputs": [
    {
     "name": "stdout",
     "output_type": "stream",
     "text": [
      "Requirement already satisfied: numpy in c:\\users\\komal\\appdata\\local\\packages\\pythonsoftwarefoundation.python.3.8_qbz5n2kfra8p0\\localcache\\local-packages\\python38\\site-packages (1.22.3)\n",
      "Note: you may need to restart the kernel to use updated packages.\n"
     ]
    },
    {
     "name": "stderr",
     "output_type": "stream",
     "text": [
      "WARNING: You are using pip version 21.1.1; however, version 22.0.4 is available.\n",
      "You should consider upgrading via the 'C:\\Users\\Komal\\AppData\\Local\\Microsoft\\WindowsApps\\PythonSoftwareFoundation.Python.3.8_qbz5n2kfra8p0\\python.exe -m pip install --upgrade pip' command.\n"
     ]
    }
   ],
   "source": [
    "pip install numpy"
   ]
  },
  {
   "cell_type": "markdown",
   "id": "53020a2d",
   "metadata": {},
   "source": [
    "<h1>NUMPY Problems<h1>\n"
   ]
  },
  {
   "cell_type": "markdown",
   "id": "9f7b152c",
   "metadata": {},
   "source": [
    " **1. Write a Python program to convert a list of numeric value into a one-dimensional\n",
    "NumPy array.\n",
    "Expected Output:\n",
    "Original List: [12.23, 13.32, 100, 36.32]\n",
    "One-dimensional numpy array: [ 12.23 13.32 100. 36.32]**\n"
   ]
  },
  {
   "cell_type": "code",
   "execution_count": 123,
   "id": "50e55995",
   "metadata": {},
   "outputs": [
    {
     "name": "stdout",
     "output_type": "stream",
     "text": [
      "Orignal list before converting:  [12.23, 13.32, 100, 36.32]\n",
      "List After converting into one diamentional array:  [ 12.23  13.32 100.    36.32]\n"
     ]
    }
   ],
   "source": [
    "import numpy as np\n",
    "original_list= [12.23, 13.32, 100, 36.32]\n",
    "print(\"Orignal list before converting: \",original_list)\n",
    "\n",
    "onedimentional_arr=np.array(original_list)\n",
    "print(\"List After converting into one diamentional array: \",onedimentional_arr)"
   ]
  },
  {
   "cell_type": "markdown",
   "id": "ae413588",
   "metadata": {},
   "source": [
    "**2. Create a 3x3 matrix with values ranging from 2 to 10.\n",
    "Expected Output:\n",
    "[[ 2 3 4]\n",
    "[ 5 6 7]\n",
    "[ 8 9 10]]**"
   ]
  },
  {
   "cell_type": "code",
   "execution_count": 124,
   "id": "634f671a",
   "metadata": {},
   "outputs": [
    {
     "name": "stdout",
     "output_type": "stream",
     "text": [
      "Two Dimentional Array Is:  [[ 2  3  4]\n",
      " [ 5  6  7]\n",
      " [ 8  9 10]]\n"
     ]
    }
   ],
   "source": [
    "import numpy as np\n",
    "\n",
    "matrix=np.arange(2,11).reshape(3,3) \n",
    "\n",
    "print(\"Two Dimentional Array Is: \",matrix)"
   ]
  },
  {
   "cell_type": "markdown",
   "id": "87fcbb21",
   "metadata": {},
   "source": [
    "__3. Write a Python program to create a null vector of size 10 and update sixth value to 11.\n",
    "[ 0. 0. 0. 0. 0. 0. 0. 0. 0. 0.]\n",
    "Update sixth value to 11\n",
    "[ 0. 0. 0. 0. 0. 0. 11. 0. 0. 0.]__"
   ]
  },
  {
   "cell_type": "code",
   "execution_count": 125,
   "id": "6536381a",
   "metadata": {},
   "outputs": [
    {
     "name": "stdout",
     "output_type": "stream",
     "text": [
      "Null Vector array is with Zero:  [0. 0. 0. 0. 0. 0. 0. 0. 0. 0.]\n",
      "After changed value at 6th Index :  [ 0.  0.  0.  0.  0.  0. 11.  0.  0.  0.]\n"
     ]
    }
   ],
   "source": [
    "import numpy as np\n",
    "\n",
    "null_arr=np.zeros(10)\n",
    "print(\"Null Vector array is with Zero: \",null_arr)\n",
    "\n",
    "null_arr[6]=11\n",
    "print(\"After changed value at 6th Index : \",null_arr)"
   ]
  },
  {
   "cell_type": "markdown",
   "id": "b3dda219",
   "metadata": {},
   "source": [
    "**4.Write a Python program to reverse an array (first element becomes last).\n",
    "Original array:\n",
    "[12 13 14 15 16 17 18 19 20 21 22 23 24 25 26 27 28 29 30 31 32 33 34 35 36 37]\n",
    "Reverse array:\n",
    "[37 36 35 34 33 32 31 30 29 28 27 26 25 24 23 22 21 20 19 18 17 16 15 14 13 12]**"
   ]
  },
  {
   "cell_type": "code",
   "execution_count": 126,
   "id": "1ccc2d49",
   "metadata": {},
   "outputs": [
    {
     "name": "stdout",
     "output_type": "stream",
     "text": [
      "Original array is:  [12 13 14 15 16 17 18 19 20 21 22 23 24 25 26 27 28 29 30 31 32 33 34 35\n",
      " 36 37]\n",
      "Reverse array is:\n",
      "[37 36 35 34 33 32 31 30 29 28 27 26 25 24 23 22 21 20 19 18 17 16 15 14\n",
      " 13 12]\n"
     ]
    }
   ],
   "source": [
    "import numpy as np\n",
    "\n",
    "arr=np.arange(12,38)\n",
    "print(\"Original array is: \",arr)\n",
    "print(\"Reverse array is:\")\n",
    "print(arr[::-1])"
   ]
  },
  {
   "cell_type": "markdown",
   "id": "f58802c9",
   "metadata": {},
   "source": [
    "**5. Write a Python program to create a 2d array with 1 on the border and 0 inside. Expected Output: Original array: [[ 1. 1. 1. 1. 1.] [ 1. 1. 1. 1. 1.] [ 1. 1. 1. 1. 1.] [ 1. 1. 1. 1. 1.] [ 1. 1. 1. 1. 1.]]1 on the border and 0 inside in the array [[ 1. 1. 1. 1. 1.] [ 1. 0. 0. 0. 1.] [ 1. 0. 0. 0. 1.] [ 1. 0. 0. 0. 1.] [ 1. 1. 1. 1. 1.]]**"
   ]
  },
  {
   "cell_type": "code",
   "execution_count": 127,
   "id": "8283a9ec",
   "metadata": {},
   "outputs": [
    {
     "name": "stdout",
     "output_type": "stream",
     "text": [
      "Original array:\n",
      "[[1. 1. 1. 1. 1.]\n",
      " [1. 1. 1. 1. 1.]\n",
      " [1. 1. 1. 1. 1.]\n",
      " [1. 1. 1. 1. 1.]\n",
      " [1. 1. 1. 1. 1.]]\n",
      "1 on the border and 0 inside in the array\n",
      "[[1. 1. 1. 1. 1.]\n",
      " [1. 0. 0. 0. 1.]\n",
      " [1. 0. 0. 0. 1.]\n",
      " [1. 0. 0. 0. 1.]\n",
      " [1. 1. 1. 1. 1.]]\n"
     ]
    }
   ],
   "source": [
    "import numpy as np\n",
    "two_d_array = np.ones((5,5))\n",
    "print(\"Original array:\")\n",
    "print(two_d_array)\n",
    "print(\"1 on the border and 0 inside in the array\")\n",
    "two_d_array[1:-1,1:-1] = 0\n",
    "#two_d_array[1:4,1:4]=0\n",
    "print(two_d_array)"
   ]
  },
  {
   "cell_type": "markdown",
   "id": "980af5ad",
   "metadata": {},
   "source": [
    "**6. Write a Python program to add a border (filled with 0's) around an existing array.\n",
    "Expected Output:\n",
    "Original array:\n",
    "[[ 1. 1. 1.]\n",
    "[ 1. 1. 1.]\n",
    "[ 1. 1. 1.]]**"
   ]
  },
  {
   "cell_type": "code",
   "execution_count": 128,
   "id": "29aee4d3",
   "metadata": {},
   "outputs": [
    {
     "name": "stdout",
     "output_type": "stream",
     "text": [
      "Original array [[1. 1. 1.]\n",
      " [1. 1. 1.]\n",
      " [1. 1. 1.]]\n",
      "0 on the border and 1 inside the array\n",
      "[[0. 0. 0. 0. 0.]\n",
      " [0. 1. 1. 1. 0.]\n",
      " [0. 1. 1. 1. 0.]\n",
      " [0. 1. 1. 1. 0.]\n",
      " [0. 0. 0. 0. 0.]]\n"
     ]
    }
   ],
   "source": [
    "import numpy as np\n",
    "arr = np.ones((3, 3))\n",
    "  \n",
    "print(\"Original array\",arr)\n",
    "print(\"0 on the border and 1 inside the array\")\n",
    "arr = np.pad(arr, pad_width=1, mode='constant',\n",
    "               constant_values=0)\n",
    "print(arr)"
   ]
  },
  {
   "cell_type": "markdown",
   "id": "5974da28",
   "metadata": {},
   "source": [
    "**7. Write a Python program to create a 8x8 matrix and fill it with a checkerboard pattern.\n",
    "Checkerboard pattern:\n",
    "[[0 1 0 1 0 1 0 1]\n",
    "[1 0 1 0 1 0 1 0]\n",
    "[0 1 0 1 0 1 0 1]\n",
    "[1 0 1 0 1 0 1 0]\n",
    "[0 1 0 1 0 1 0 1]\n",
    "[1 0 1 0 1 0 1 0]\n",
    "[0 1 0 1 0 1 0 1]\n",
    "[1 0 1 0 1 0 1 0]]**\n"
   ]
  },
  {
   "cell_type": "code",
   "execution_count": 129,
   "id": "31ac9176",
   "metadata": {},
   "outputs": [
    {
     "name": "stdout",
     "output_type": "stream",
     "text": [
      "Orignal Array Is: \n",
      "[[0. 0. 0. 0. 0. 0. 0. 0.]\n",
      " [0. 0. 0. 0. 0. 0. 0. 0.]\n",
      " [0. 0. 0. 0. 0. 0. 0. 0.]\n",
      " [0. 0. 0. 0. 0. 0. 0. 0.]\n",
      " [0. 0. 0. 0. 0. 0. 0. 0.]\n",
      " [0. 0. 0. 0. 0. 0. 0. 0.]\n",
      " [0. 0. 0. 0. 0. 0. 0. 0.]\n",
      " [0. 0. 0. 0. 0. 0. 0. 0.]]\n",
      "Checkoboard Pattern is: \n",
      "[[0. 1. 0. 1. 0. 1. 0. 1.]\n",
      " [1. 0. 1. 0. 1. 0. 1. 0.]\n",
      " [0. 1. 0. 1. 0. 1. 0. 1.]\n",
      " [1. 0. 1. 0. 1. 0. 1. 0.]\n",
      " [0. 1. 0. 1. 0. 1. 0. 1.]\n",
      " [1. 0. 1. 0. 1. 0. 1. 0.]\n",
      " [0. 1. 0. 1. 0. 1. 0. 1.]\n",
      " [1. 0. 1. 0. 1. 0. 1. 0.]]\n"
     ]
    }
   ],
   "source": [
    "import numpy as np\n",
    "\n",
    "\n",
    "arr=np.zeros((8,8))\n",
    "print(\"Orignal Array Is: \")\n",
    "print(arr)\n",
    "arr[1::2,::2]=1\n",
    "arr[::2,1::2]=1\n",
    "print(\"Checkoboard Pattern is: \")\n",
    "print(arr)\n"
   ]
  },
  {
   "cell_type": "markdown",
   "id": "09ece4ed",
   "metadata": {},
   "source": [
    "**8. Write a Python program to convert a list and tuple into arrays.\n",
    "List to array:\n",
    "[1 2 3 4 5 6 7 8]\n",
    "Tuple to array:\n",
    "[[8 4 6]\n",
    "[1 2 3]]**"
   ]
  },
  {
   "cell_type": "code",
   "execution_count": 130,
   "metadata": {},
   "outputs": [
    {
     "name": "stdout",
     "output_type": "stream",
     "text": [
      "List to array:  [1 2 3 4 5 6 7 8]\n",
      "Tuple to array is :  [[8 4 6]\n",
      " [1 2 3]]\n"
     ]
    }
   ],
   "source": [
    "import numpy as np\n",
    "\n",
    "list = [1, 2, 3, 4, 5, 6, 7, 8]\n",
    "list=np.asarray(list)\n",
    "print(\"List to array: \",list)\n",
    "\n",
    "tup= ([8, 4, 6] ,[1, 2, 3])\n",
    "tup=np.asarray(tup)\n",
    "print(\"Tuple to array is : \",tup)\n"
   ]
  },
  {
   "cell_type": "markdown",
   "id": "4430402c",
   "metadata": {},
   "source": [
    "**9. Write a Python program to append values to the end of an array. Expected Output: Original array: [10, 20, 30] After append values to the end of the array: [10 20 30 40 50 60 70 80 90]**"
   ]
  },
  {
   "cell_type": "code",
   "execution_count": 131,
   "id": "e55fd522",
   "metadata": {},
   "outputs": [
    {
     "name": "stdout",
     "output_type": "stream",
     "text": [
      "This Is original  Array:  [10, 20, 30]\n",
      "Added Values at end in orginal Array :  [10 20 30 40 50 60 70 80 90]\n"
     ]
    }
   ],
   "source": [
    "import numpy as np\n",
    "\n",
    "arr = [10,20,30]\n",
    "print(\"This Is original  Array: \",arr)\n",
    "finalarr = np.append(arr,[40,50,60,70,80,90],axis=0)\n",
    "print(\"Added Values at end in orginal Array : \",finalarr)"
   ]
  },
  {
   "cell_type": "markdown",
   "id": "700f161e",
   "metadata": {},
   "source": [
    "**10. Write a Python program to find the real and imaginary parts of an array of complex numbers. Expected Output: Original array [ 1.00000000+0.j 0.70710678+0.70710678j] Real part of the array: [ 1. 0.70710678] Imaginary part of the array: [ 0. 0.70710678]**"
   ]
  },
  {
   "cell_type": "code",
   "execution_count": 132,
   "id": "83daddfe",
   "metadata": {},
   "outputs": [
    {
     "name": "stdout",
     "output_type": "stream",
     "text": [
      "Original array: arr1 :  [1.+0.j]\n",
      "Original array: arr2 :  [0.707+0.707j]\n",
      "Real part of the array is: \n",
      "[1.]\n",
      "[0.707]\n",
      "Imaginary part of the array is: \n",
      "[0.]\n",
      "[0.707]\n"
     ]
    }
   ],
   "source": [
    "import numpy as np\n",
    "\n",
    "arr1 = np.sqrt([1.0000+0j])\n",
    "arr2 = np.sqrt([0+1j])\n",
    "\n",
    "print(\"Original array: arr1 : \",arr1)\n",
    "print(\"Original array: arr2 : \",arr2 )\n",
    "\n",
    "print(\"Real part of the array is: \")\n",
    "print(arr1.real)\n",
    "print(arr2.real )\n",
    "\n",
    "print(\"Imaginary part of the array is: \")\n",
    "print(arr1.imag)\n",
    "print(arr2.imag)"
   ]
  },
  {
   "cell_type": "markdown",
   "id": "3fb2c4b3",
   "metadata": {},
   "source": [
    "**11. Write a Python program to find the number of elements of an array, length of one\n",
    "array element in bytes and total bytes consumed by the elements.\n",
    "Expected Output:\n",
    "Size of the array: 3\n",
    "Length of one array element in bytes: 8\n",
    "Total bytes consumed by the elements of the array: 24**"
   ]
  },
  {
   "cell_type": "code",
   "execution_count": 133,
   "id": "91a860b1",
   "metadata": {},
   "outputs": [
    {
     "name": "stdout",
     "output_type": "stream",
     "text": [
      "Array is:  [1. 2. 3.]\n",
      "Size of an array is:  3\n",
      "Length of one element of an array in bytes is:  8\n",
      "Total bytes consumed by the elements of the array is:  24\n"
     ]
    }
   ],
   "source": [
    "import numpy as np\n",
    "arr = np.array([1,2,3], dtype=np.float64)\n",
    "\n",
    "print(\"Array is: \",arr )\n",
    "print(\"Size of an array is: \", arr.size)\n",
    "print(\"Length of one element of an array in bytes is: \", arr.itemsize)\n",
    "print(\"Total bytes consumed by the elements of the array is: \", arr.nbytes)"
   ]
  },
  {
   "cell_type": "markdown",
   "id": "a2a19038",
   "metadata": {},
   "source": [
    "**12. Write a Python program to find common values between two arrays.\n",
    "Expected Output:\n",
    "Array1: [ 0 10 20 40 60]\n",
    "Array2: [10, 30, 40]\n",
    "Common values between two arrays:\n",
    "[10 40]**"
   ]
  },
  {
   "cell_type": "code",
   "execution_count": 134,
   "id": "7b2bff3d",
   "metadata": {},
   "outputs": [
    {
     "name": "stdout",
     "output_type": "stream",
     "text": [
      "First Array is:  [ 0 10 20 40 60]\n",
      "Second Array is:  [10 30 40]\n",
      "Common Values Between First array And Second array is:  [10 40]\n"
     ]
    }
   ],
   "source": [
    "import numpy as np\n",
    "\n",
    "arr1 = np.array([0,10,20,40,60])\n",
    "arr2 = np.array([10,30,40])\n",
    "\n",
    "print(\"First Array is: \",arr1)\n",
    "print(\"Second Array is: \",arr2)\n",
    "\n",
    "print(\"Common Values Between First array And Second array is: \", np.intersect1d(arr1,arr2))"
   ]
  },
  {
   "cell_type": "markdown",
   "id": "4cc773d5",
   "metadata": {},
   "source": [
    "**13. Write a Python program to find the set difference of two arrays. The set difference\n",
    "will return the sorted, unique values in array1 that are not in array2.\n",
    "Expected Output:\n",
    "Array1: [ 0 10 20 40 60 80]\n",
    "Array2: [10, 30, 40, 50, 70, 90]\n",
    "Set difference between two arrays:\n",
    "[ 0 20 60 80]**"
   ]
  },
  {
   "cell_type": "code",
   "execution_count": 135,
   "id": "0dbf2be1",
   "metadata": {},
   "outputs": [
    {
     "name": "stdout",
     "output_type": "stream",
     "text": [
      "First Array is:  [ 0 10 20 40 60 80]\n",
      "Second Array is:  [10 30 40 50 70 90]\n",
      "Unique values in first array that are not in second array:  [ 0 20 60 80]\n"
     ]
    }
   ],
   "source": [
    "import numpy as np\n",
    "\n",
    "arr1 = np.array([0,10,20,40,60,80])\n",
    "arr2 = np.array([10,30,40,50,70,90])\n",
    "\n",
    "print(\"First Array is: \",arr1)\n",
    "print(\"Second Array is: \",arr2)\n",
    "\n",
    "print(\"Unique values in first array that are not in second array: \", np.setdiff1d(arr1,arr2))\n"
   ]
  },
  {
   "cell_type": "markdown",
   "id": "c8de7e02",
   "metadata": {},
   "source": [
    "**14. Write a Python program to find the set exclusive-or of two arrays. Set exclusive-or\n",
    "will return the sorted, unique values that are in only one (not both) of the input arrays.\n",
    "Array1: [ 0 10 20 40 60 80]\n",
    "Array2: [10, 30, 40, 50, 70]\n",
    "Unique values that are in only one (not both) of the input arrays:\n",
    "[ 0 20 30 50 60 70 80]**"
   ]
  },
  {
   "cell_type": "code",
   "execution_count": 136,
   "id": "165710bf",
   "metadata": {},
   "outputs": [
    {
     "name": "stdout",
     "output_type": "stream",
     "text": [
      "Array1:  [ 0 10 20 40 60 80]\n",
      "Array2:  [10 30 40 50 70]\n",
      "Unique values that are in only one (not both) of the input arrays:\n",
      "[ 0 20 30 50 60 70 80]\n"
     ]
    }
   ],
   "source": [
    "import numpy as np\n",
    "\n",
    "array1 = np.array([0, 10, 20, 40, 60, 80])\n",
    "print(\"Array1: \",array1)\n",
    "\n",
    "array2 = np.array([10, 30, 40, 50, 70])\n",
    "print(\"Array2: \",array2)\n",
    "\n",
    "print(\"Unique values that are in only one (not both) of the input arrays:\")\n",
    "print(np.setxor1d(array1, array2))"
   ]
  },
  {
   "cell_type": "markdown",
   "id": "9f44c4fa",
   "metadata": {},
   "source": [
    "**15. Write a Python program compare two arrays using numpy.\n",
    "Array a: [1 2]\n",
    "Array b: [4 5]\n",
    "a > b\n",
    "[False False]\n",
    "a >= b\n",
    "[False False]\n",
    "a < b\n",
    "[ True True]\n",
    "a <= b\n",
    "[ True True]**"
   ]
  },
  {
   "cell_type": "code",
   "execution_count": 137,
   "id": "e65cbb06",
   "metadata": {},
   "outputs": [
    {
     "name": "stdout",
     "output_type": "stream",
     "text": [
      "Array a:  [1 2]\n",
      "Array b:  [4 5]\n",
      "a > b: \n",
      "[False False]\n",
      "a >= b: \n",
      "[False False]\n",
      "a < b: \n",
      "[ True  True]\n",
      "a <= b: \n",
      "[ True  True]\n"
     ]
    }
   ],
   "source": [
    "import numpy as np\n",
    "\n",
    "a = np.array([1, 2])\n",
    "b = np.array([4, 5])\n",
    "\n",
    "print(\"Array a: \",a)\n",
    "print(\"Array b: \",b)\n",
    "\n",
    "print(\"a > b: \")\n",
    "print(np.greater(a, b))\n",
    "\n",
    "print(\"a >= b: \")\n",
    "print(np.greater_equal(a, b))\n",
    "\n",
    "print(\"a < b: \")\n",
    "print(np.less(a, b))\n",
    "\n",
    "print(\"a <= b: \")\n",
    "print(np.less_equal(a, b))\n"
   ]
  },
  {
   "cell_type": "markdown",
   "id": "35d0db12",
   "metadata": {},
   "source": [
    "**16. Write a Python program to save a NumPy array to a text file.**"
   ]
  },
  {
   "cell_type": "code",
   "execution_count": 138,
   "id": "66394cdb",
   "metadata": {},
   "outputs": [
    {
     "name": "stdout",
     "output_type": "stream",
     "text": [
      "Array:\n",
      " [1 2 3 4 5]\n",
      "\n",
      "Content in filechecknumpy.txt:\n",
      " [1 2 3 4 5]\n"
     ]
    }
   ],
   "source": [
    "import numpy as np \n",
    "\n",
    "# Creating an array\n",
    "List = [1, 2, 3, 4, 5]\n",
    "Array = np.array(List)\n",
    "\n",
    "# Displaying the array\n",
    "print('Array:\\n', Array)\n",
    "file = open(\"filechecknumpy.txt\", \"w+\")\n",
    "\n",
    "# Saving the array in a filechecknumpy.txt file\n",
    "content = str(Array)\n",
    "file.write(content)\n",
    "file.close()\n",
    "\n",
    "# Displaying the contents of the filechecknumpy.txt file\n",
    "file = open(\"filechecknumpy.txt\", \"r\")\n",
    "content = file.read()\n",
    "\n",
    "print(\"\\nContent in filechecknumpy.txt:\\n\", content)\n",
    "file.close()"
   ]
  },
  {
   "cell_type": "markdown",
   "id": "f0f8365c",
   "metadata": {},
   "source": [
    "**17. Write a Python program to create a contiguous flattened array.\n",
    "Original array:\n",
    "[[10 20 30]\n",
    "[20 40 50]]\n",
    "New flattened array:\n",
    "[10 20 30 20 40 50]**"
   ]
  },
  {
   "cell_type": "code",
   "execution_count": 139,
   "id": "53254077",
   "metadata": {},
   "outputs": [
    {
     "name": "stdout",
     "output_type": "stream",
     "text": [
      "Original array: [[10 20 30]\n",
      " [20 40 50]]\n",
      "New flattened array:\n",
      "[10 20 30 20 40 50]\n"
     ]
    }
   ],
   "source": [
    "import numpy as np\n",
    "arr = np.array([[10, 20, 30], [20, 40, 50]])\n",
    "print(\"Original array:\",arr)\n",
    "arr1 = np.ravel(arr)\n",
    "print(\"New flattened array:\")\n",
    "print(arr1)"
   ]
  },
  {
   "cell_type": "markdown",
   "id": "601e89e0",
   "metadata": {},
   "source": [
    "**18. Write a Python program to change the data type of an array.\n",
    "Expected Output:\n",
    "[[ 2 4 6]\n",
    "[ 6 8 10]]\n",
    "Data type of the array x is: int32\n",
    "New Type: float64\n",
    "[[ 2. 4. 6.]\n",
    "[ 6. 8. 10.]]**"
   ]
  },
  {
   "cell_type": "code",
   "execution_count": 140,
   "id": "992afc17",
   "metadata": {},
   "outputs": [
    {
     "name": "stdout",
     "output_type": "stream",
     "text": [
      "[[ 2  4  6]\n",
      " [ 6  8 10]]\n",
      "Data type of the array  is: int32\n",
      "New Type:  float64\n",
      "[[ 2.  4.  6.]\n",
      " [ 6.  8. 10.]]\n"
     ]
    }
   ],
   "source": [
    "import numpy as np\n",
    "\n",
    "arr1 = np.array([[2, 4, 6], [6, 8, 10]], np.int32)\n",
    "print(arr1)\n",
    "print(\"Data type of the array  is:\",arr1.dtype)\n",
    "# Change the data type of arr1\n",
    "arr2 = arr1.astype(float)\n",
    "print(\"New Type: \",arr2.dtype)\n",
    "print(arr2)"
   ]
  },
  {
   "cell_type": "markdown",
   "id": "18a72ae8",
   "metadata": {},
   "source": [
    "**19.Write a Python program to create a 3-D array with ones on a diagonal and zeros\n",
    "elsewhere.\n",
    "Expected Output:\n",
    "[[ 1. 0. 0.]\n",
    "[ 0. 1. 0.]\n",
    "[ 0. 0. 1.]]**"
   ]
  },
  {
   "cell_type": "code",
   "execution_count": 141,
   "id": "7194c0a1",
   "metadata": {},
   "outputs": [
    {
     "name": "stdout",
     "output_type": "stream",
     "text": [
      "[[1. 0. 0.]\n",
      " [0. 1. 0.]\n",
      " [0. 0. 1.]]\n"
     ]
    }
   ],
   "source": [
    "import numpy as np\n",
    "arr = np.eye(3)\n",
    "print(arr)"
   ]
  },
  {
   "cell_type": "markdown",
   "id": "a017fef5",
   "metadata": {},
   "source": [
    "**20.Write a Python program to create an array which looks like below array.\n",
    "Expected Output:\n",
    "[[ 0. 0. 0.]\n",
    "[ 1. 0. 0.]\n",
    "[ 1. 1. 0.]\n",
    "[ 1. 1. 1.]]**"
   ]
  },
  {
   "cell_type": "code",
   "execution_count": 142,
   "id": "aa637ece",
   "metadata": {},
   "outputs": [
    {
     "name": "stdout",
     "output_type": "stream",
     "text": [
      "[[0. 0. 0.]\n",
      " [1. 0. 0.]\n",
      " [1. 1. 0.]\n",
      " [1. 1. 1.]]\n"
     ]
    }
   ],
   "source": [
    "import numpy as np\n",
    "arr = np.tri(4, 3, -1)\n",
    "print(arr)"
   ]
  },
  {
   "cell_type": "markdown",
   "id": "380d4d5a",
   "metadata": {},
   "source": [
    "**21. Write a Python program to concatenate two 2-dimensional arrays.\n",
    "Expected Output:\n",
    "Sample arrays: ([[0, 1, 3], [5, 7, 9]], [[0, 2, 4], [6, 8, 10]]\n",
    "Expected Output:\n",
    "[[ 0 1 3 0 2 4]\n",
    "[ 5 7 9 6 8 10]]**"
   ]
  },
  {
   "cell_type": "code",
   "execution_count": 143,
   "id": "2ebf3374",
   "metadata": {},
   "outputs": [
    {
     "name": "stdout",
     "output_type": "stream",
     "text": [
      "[[ 0  1  3  0  2  4]\n",
      " [ 5  7  9  6  8 10]]\n"
     ]
    }
   ],
   "source": [
    "import numpy as np\n",
    "arr1 = np.array([[0, 1, 3], [5, 7, 9]])\n",
    "arr2 = np.array([[0, 2, 4], [6, 8, 10]])\n",
    "arr3 = np.concatenate((arr1, arr2), 1)\n",
    "print(arr3)"
   ]
  },
  {
   "cell_type": "markdown",
   "id": "cfa7e0c4",
   "metadata": {},
   "source": [
    "**22.Write a Python program to make an array immutable (read-only).\n",
    "Expected Output:\n",
    "Test the array is read-only or not:\n",
    "Try to change the value of the first element:\n",
    "Traceback (most recent call last):\n",
    "File \"19236bd0-0bd9-11e7-a232-c706d0968eb6.py\", line 6, in\n",
    "x[0] = 1\n",
    "ValueError: assignment destination is read-only**"
   ]
  },
  {
   "cell_type": "code",
   "execution_count": 144,
   "id": "f4b5dc48",
   "metadata": {},
   "outputs": [
    {
     "name": "stdout",
     "output_type": "stream",
     "text": [
      "[0. 0. 0. 0. 0.]\n",
      "Test the array is read-only or not:\n",
      "Try to change the value of the first element:\n"
     ]
    },
    {
     "ename": "ValueError",
     "evalue": "assignment destination is read-only",
     "output_type": "error",
     "traceback": [
      "\u001b[1;31m---------------------------------------------------------------------------\u001b[0m",
      "\u001b[1;31mValueError\u001b[0m                                Traceback (most recent call last)",
      "\u001b[1;32mc:\\BridgeLabz\\Numpy\\Numpy.ipynb Cell 46'\u001b[0m in \u001b[0;36m<cell line: 7>\u001b[1;34m()\u001b[0m\n\u001b[0;32m      <a href='vscode-notebook-cell:/c%3A/BridgeLabz/Numpy/Numpy.ipynb#ch0000064?line=4'>5</a>\u001b[0m \u001b[39mprint\u001b[39m(\u001b[39m\"\u001b[39m\u001b[39mTest the array is read-only or not:\u001b[39m\u001b[39m\"\u001b[39m)\n\u001b[0;32m      <a href='vscode-notebook-cell:/c%3A/BridgeLabz/Numpy/Numpy.ipynb#ch0000064?line=5'>6</a>\u001b[0m \u001b[39mprint\u001b[39m(\u001b[39m\"\u001b[39m\u001b[39mTry to change the value of the first element:\u001b[39m\u001b[39m\"\u001b[39m)\n\u001b[1;32m----> <a href='vscode-notebook-cell:/c%3A/BridgeLabz/Numpy/Numpy.ipynb#ch0000064?line=6'>7</a>\u001b[0m arr[\u001b[39m0\u001b[39m] \u001b[39m=\u001b[39m \u001b[39m1\u001b[39m\n",
      "\u001b[1;31mValueError\u001b[0m: assignment destination is read-only"
     ]
    }
   ],
   "source": [
    "import numpy as np\n",
    "arr = np.zeros(5)\n",
    "print(arr)\n",
    "arr.flags.writeable = False\n",
    "print(\"Test the array is read-only or not:\")\n",
    "print(\"Try to change the value of the first element:\")\n",
    "arr[0] = 1"
   ]
  },
  {
   "cell_type": "markdown",
   "id": "2c8fb3d5",
   "metadata": {},
   "source": [
    "**23. Write a Python program to create an array of (3, 4) shape, multiply every element value by 3 and display the new array. Expected Output: Original array elements: [[ 0 1 2 3] [ 4 5 6 7] [ 8 9 10 11]] New array elements: [[ 0 3 6 9] [12 15 18 21] [24 27 30 33]]**"
   ]
  },
  {
   "cell_type": "code",
   "execution_count": null,
   "metadata": {},
   "outputs": [
    {
     "name": "stdout",
     "output_type": "stream",
     "text": [
      "Original array elements:\n",
      "[[ 0  1  2  3]\n",
      " [ 4  5  6  7]\n",
      " [ 8  9 10 11]]\n",
      "New array elements:\n",
      "[[ 0  3  6  9]\n",
      " [12 15 18 21]\n",
      " [24 27 30 33]]\n"
     ]
    }
   ],
   "source": [
    "import numpy as np\n",
    "\n",
    "arr= np.arange(12).reshape(3, 4)\n",
    "print(\"Original array elements:\")\n",
    "print(arr)\n",
    "\n",
    "for a in np.nditer(arr, op_flags=['readwrite']):\n",
    "    a[...] = 3 * a\n",
    "    \n",
    "print(\"New array elements:\")\n",
    "print(arr)\n"
   ]
  },
  {
   "cell_type": "markdown",
   "id": "ea1e24eb",
   "metadata": {},
   "source": [
    "**24. Write a Python program to convert a NumPy array into Python list structure. Expected Output: Original array elements: [[0 1] [2 3] [4 5]] Array to list: [[0, 1], [2, 3], [4, 5]]**"
   ]
  },
  {
   "cell_type": "code",
   "execution_count": null,
   "id": "54a5d15d",
   "metadata": {},
   "outputs": [
    {
     "name": "stdout",
     "output_type": "stream",
     "text": [
      "Original array elements:\n",
      "[[0 1]\n",
      " [2 3]\n",
      " [4 5]]\n",
      "Array to list:\n",
      "[[0, 1], [2, 3], [4, 5]]\n"
     ]
    }
   ],
   "source": [
    "import numpy as np\n",
    "\n",
    "arr= np.arange(6).reshape(3, 2)\n",
    "\n",
    "print(\"Original array elements:\")\n",
    "print(arr)\n",
    "\n",
    "print(\"Array to list:\")\n",
    "print(arr.tolist())"
   ]
  },
  {
   "cell_type": "markdown",
   "id": "e2f0d524",
   "metadata": {},
   "source": [
    "**25. Write a Python program to convert a NumPy array into Python list structure. Expected Output:Original array elements: [ 0.26153123 0.52760141 0.5718299 0.5927067 0.7831874 0.69746349 0.35399976 0.99469633 0.0694458 0.54711478] Print array values with precision 3: [ 0.262 0.528 0.572 0.593 0.783 0.697 0.354 0.995 0.069 0.547]**"
   ]
  },
  {
   "cell_type": "code",
   "execution_count": null,
   "id": "cc637c5f",
   "metadata": {},
   "outputs": [
    {
     "name": "stdout",
     "output_type": "stream",
     "text": [
      "Original array elements: [0.262 0.528 0.572 0.593 0.783 0.697 0.354 0.995 0.069 0.547]\n",
      "Print array values with precision 3:\n",
      "[0.262 0.528 0.572 0.593 0.783 0.697 0.354 0.995 0.069 0.547]\n"
     ]
    }
   ],
   "source": [
    "import numpy as np\n",
    "\n",
    "arr=np.array([ 0.26153123, 0.52760141, 0.5718299, 0.5927067, 0.7831874, 0.69746349,             \n",
    "  0.35399976, 0.99469633, 0.0694458, 0.54711478]) \n",
    "\n",
    "print(\"Original array elements:\",arr)\n",
    "print(\"Print array values with precision 3:\")\n",
    "np.set_printoptions(precision=3)\n",
    "print(arr)"
   ]
  },
  {
   "cell_type": "markdown",
   "id": "a15c49f6",
   "metadata": {},
   "source": [
    "**26. Write a Python program to suppresses the use of scientific notation for small\n",
    "numbers in numpy array.\n",
    "Expected Output:\n",
    "Original array elements:\n",
    "[ 1.60000000e-10 1.60000000e+00 1.20000000e+03 2.35000000e-01]\n",
    "Print array values with precision 3:\n",
    "[ 0. 1.6 1200. 0.235]**"
   ]
  },
  {
   "cell_type": "code",
   "execution_count": null,
   "id": "2a1f6588",
   "metadata": {},
   "outputs": [
    {
     "name": "stdout",
     "output_type": "stream",
     "text": [
      "Original array elements: [1.60e-10 1.60e+00 1.20e+03 2.35e-01]\n",
      "Print array values with precision 3:\n",
      "[   0.       1.6   1200.       0.235]\n"
     ]
    }
   ],
   "source": [
    "import numpy as np\n",
    "arr=np.array([1.6e-10, 1.6, 1200, .235]) \n",
    "print(\"Original array elements:\",arr)\n",
    "print(\"Print array values with precision 3:\")\n",
    "np.set_printoptions(suppress=True)\n",
    "print(arr)"
   ]
  },
  {
   "cell_type": "markdown",
   "id": "78317c07",
   "metadata": {},
   "source": [
    "**27. Write a Python program to how to add an extra column to an numpy array.\n",
    "Expected Output:\n",
    "[[ 10 20 30 100]\n",
    "[ 40 50 60 200]]**"
   ]
  },
  {
   "cell_type": "code",
   "execution_count": null,
   "id": "6576188f",
   "metadata": {},
   "outputs": [
    {
     "name": "stdout",
     "output_type": "stream",
     "text": [
      "[[ 10  20  30 100]\n",
      " [ 40  50  60 200]]\n"
     ]
    }
   ],
   "source": [
    "import numpy as np\n",
    "\n",
    "array1 = np.array([[10,20,30], [40,50,60]])\n",
    "array2= np.array([[100], [200]])\n",
    "print(np.append(array1, array2, axis=1))"
   ]
  },
  {
   "cell_type": "markdown",
   "id": "e141d319",
   "metadata": {},
   "source": [
    "**28. Write a Python program to remove specific elements in a numpy array.\n",
    "Expected Output:\n",
    "Original array:\n",
    "[ 10 20 30 40 50 60 70 80 90 100]\n",
    "Delete first, fourth and fifth elements:\n",
    "[ 20 30 60 70 80 90 100]**"
   ]
  },
  {
   "cell_type": "code",
   "execution_count": null,
   "id": "c9b90d66",
   "metadata": {},
   "outputs": [
    {
     "name": "stdout",
     "output_type": "stream",
     "text": [
      "Original array:\n",
      "[ 10  20  30  40  50  60  70  80  90 100]\n",
      "Delete first, fourth and fifth elements:\n",
      "[ 20  30  60  70  80  90 100]\n"
     ]
    }
   ],
   "source": [
    "import numpy as np\n",
    "\n",
    "arr = np.array([10, 20, 30, 40, 50, 60, 70, 80, 90, 100])\n",
    "index = [0, 3, 4]\n",
    "print(\"Original array:\")\n",
    "print(arr)\n",
    "print(\"Delete first, fourth and fifth elements:\")\n",
    "\n",
    "new_arr = np.delete(arr, index)\n",
    "print(new_arr)"
   ]
  }
 ],
 "metadata": {
  "interpreter": {
   "hash": "a39069dc8d45ebb550f14c4dca0ad166c889ec7e287cb5c5d9e4552e41c1ad3f"
  },
  "kernelspec": {
   "display_name": "Python 3.8.10 64-bit (windows store)",
   "language": "python",
   "name": "python3"
  },
  "language_info": {
   "codemirror_mode": {
    "name": "ipython",
    "version": 3
   },
   "file_extension": ".py",
   "mimetype": "text/x-python",
   "name": "python",
   "nbconvert_exporter": "python",
   "pygments_lexer": "ipython3",
   "version": "3.8.10"
  }
 },
 "nbformat": 4,
 "nbformat_minor": 5
}
